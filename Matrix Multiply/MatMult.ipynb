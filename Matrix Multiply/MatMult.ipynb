{
 "cells": [
  {
   "cell_type": "code",
   "execution_count": 5,
   "metadata": {},
   "outputs": [],
   "source": [
    "import numpy as np\n",
    "matrix_A = np.array([[1,2,3], [4,5,6], [7,8,9]])\n",
    "matrix_B = np.array([[1,2,3], [4,5,6], [7,8,9]])\n"
   ]
  },
  {
   "cell_type": "code",
   "execution_count": 6,
   "metadata": {},
   "outputs": [
    {
     "name": "stdout",
     "output_type": "stream",
     "text": [
      "[[1 2 3]\n",
      " [4 5 6]\n",
      " [7 8 9]]\n",
      "[[1 2 3]\n",
      " [4 5 6]\n",
      " [7 8 9]]\n",
      "[[0. 0. 0.]\n",
      " [0. 0. 0.]\n",
      " [0. 0. 0.]]\n"
     ]
    }
   ],
   "source": [
    "matrix_C = np.zeros((3,3))\n",
    "print(matrix_A)\n",
    "print(matrix_B)\n",
    "print(matrix_C)"
   ]
  },
  {
   "cell_type": "code",
   "execution_count": 7,
   "metadata": {},
   "outputs": [
    {
     "name": "stdout",
     "output_type": "stream",
     "text": [
      "[[ 30.  36.  42.]\n",
      " [ 66.  81.  96.]\n",
      " [102. 126. 150.]]\n"
     ]
    }
   ],
   "source": [
    "for i in range(len(matrix_A)): # Loop over rows of matrix_A\n",
    "    for j in range(len(matrix_B[0])): # Loop over columns of matrix_B\n",
    "        for k in range(len(matrix_B)): # Loop over rows of matrix_B\n",
    "            matrix_C[i][j] += matrix_A[i][k] * matrix_B[k][j]\n",
    "\n",
    "print(matrix_C)"
   ]
  },
  {
   "cell_type": "code",
   "execution_count": 8,
   "metadata": {},
   "outputs": [
    {
     "name": "stdout",
     "output_type": "stream",
     "text": [
      "Matrix A:\n",
      "[[1 2 3]\n",
      " [4 5 6]\n",
      " [7 8 9]]\n",
      "Matrix B:\n",
      "[[1 2 3]\n",
      " [4 5 6]\n",
      " [7 8 9]]\n",
      "Matrix C:\n",
      "[[ 30  36  42]\n",
      " [ 66  81  96]\n",
      " [102 126 150]]\n"
     ]
    }
   ],
   "source": [
    "#Use two for loops and get matrix C as the product of Matrix A & B\n",
    "#Multiply A & B and store it in C \n",
    "#Single Threading\n",
    "#Tiling\n",
    "import numpy as np\n",
    "\n",
    "matrix_A = np.array([[1,2,3], [4,5,6], [7,8,9]])\n",
    "matrix_B = np.array([[1,2,3], [4,5,6], [7,8,9]])\n",
    "\n",
    "#The np.dot function calculates the dot product between the two matrices\n",
    "matrix_C = np.dot(matrix_A, matrix_B)\n",
    "\n",
    "print(\"Matrix A:\")\n",
    "print(matrix_A)\n",
    "\n",
    "print(\"Matrix B:\")\n",
    "print(matrix_B)\n",
    "\n",
    "print(\"Matrix C:\")\n",
    "print(matrix_C)\n"
   ]
  },
  {
   "cell_type": "code",
   "execution_count": null,
   "metadata": {},
   "outputs": [],
   "source": [
    "#Make a python code that is Multi Threaded \n",
    "#One prints Hello\n",
    "#One prints World"
   ]
  }
 ],
 "metadata": {
  "kernelspec": {
   "display_name": "base",
   "language": "python",
   "name": "python3"
  },
  "language_info": {
   "codemirror_mode": {
    "name": "ipython",
    "version": 3
   },
   "file_extension": ".py",
   "mimetype": "text/x-python",
   "name": "python",
   "nbconvert_exporter": "python",
   "pygments_lexer": "ipython3",
   "version": "3.10.9"
  },
  "orig_nbformat": 4
 },
 "nbformat": 4,
 "nbformat_minor": 2
}
